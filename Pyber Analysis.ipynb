{
 "cells": [
  {
   "cell_type": "markdown",
   "metadata": {},
   "source": [
    "# PYBER ANALYSIS"
   ]
  },
  {
   "cell_type": "markdown",
   "metadata": {},
   "source": [
    "\n",
    "**The analysis gives insights about the demographics and revenue-makers for the Pyber divided in three regions , Urban , suburban and rural comprising of a total of 120 cities ,there are a total of 66 Urban , 36 Suburban , 18 Rural cities in the data .\n",
    "\n",
    "**The urban areas have the the highest share of total number of rides per city with a huge 68.4% of total rides by city type along with 80.9% of total drivers by city type belonging to the urban areas . The urban areas contribute to the Total fares by a 62.7% which is the highest followed by suburban at 30.5% and the rural areas come third at 6.8% .\n",
    "This clearly affirms the Urban areas being the biggest demographic of the company's services with the maximum number of rides , total number of drivers and the biggest revenue generator . Interestingly the urban areas have a much lower average fare between 20 to 28 USD compared to rural and suburban average fares .The highest average fare belongs to rural cities at 44 USD whereas the lowest average fare belongs to Urban cities at 20 USD . The suburban areas have an average fare between 24 and 36 USD. \n",
    "\n",
    "**This trend is consistent when analyzing the total percentage of drivers in suburban areas being 16.5% and in the rural areas it is 2.6%. Similarly the total rides per city have the suburban areas at 26.3% and rural at 5.3% .\n",
    "\n",
    "* The city with the highest average fare is \"Taylorhaven\" at 42.26 USD and lies within the rural area.\n",
    "* The city with the lowest average fare is \"South Latoya\" at 20 USD and lies within the urban area.\n",
    "* The city with the maximum number of rides is \"West Angela\" at 39 rides and lies in the urban area with an average     fare of 29 USD and the minimum number of rides were given in the city \"South Saramouth\" at 6 rides and lies within     the rural area and has an average fare of 36 USD.\n"
   ]
  },
  {
   "cell_type": "code",
   "execution_count": 238,
   "metadata": {},
   "outputs": [
    {
     "data": {
      "text/html": [
       "<div>\n",
       "<style scoped>\n",
       "    .dataframe tbody tr th:only-of-type {\n",
       "        vertical-align: middle;\n",
       "    }\n",
       "\n",
       "    .dataframe tbody tr th {\n",
       "        vertical-align: top;\n",
       "    }\n",
       "\n",
       "    .dataframe thead th {\n",
       "        text-align: right;\n",
       "    }\n",
       "</style>\n",
       "<table border=\"1\" class=\"dataframe\">\n",
       "  <thead>\n",
       "    <tr style=\"text-align: right;\">\n",
       "      <th></th>\n",
       "      <th>city</th>\n",
       "      <th>date</th>\n",
       "      <th>fare</th>\n",
       "      <th>ride_id</th>\n",
       "      <th>driver_count</th>\n",
       "      <th>type</th>\n",
       "      <th>_merge</th>\n",
       "    </tr>\n",
       "  </thead>\n",
       "  <tbody>\n",
       "    <tr>\n",
       "      <th>0</th>\n",
       "      <td>Lake Jonathanshire</td>\n",
       "      <td>2018-01-14 10:14:22</td>\n",
       "      <td>13.83</td>\n",
       "      <td>5739410935873</td>\n",
       "      <td>5</td>\n",
       "      <td>Urban</td>\n",
       "      <td>both</td>\n",
       "    </tr>\n",
       "    <tr>\n",
       "      <th>1</th>\n",
       "      <td>South Michelleport</td>\n",
       "      <td>2018-03-04 18:24:09</td>\n",
       "      <td>30.24</td>\n",
       "      <td>2343912425577</td>\n",
       "      <td>72</td>\n",
       "      <td>Urban</td>\n",
       "      <td>both</td>\n",
       "    </tr>\n",
       "    <tr>\n",
       "      <th>2</th>\n",
       "      <td>Port Samanthamouth</td>\n",
       "      <td>2018-02-24 04:29:00</td>\n",
       "      <td>33.44</td>\n",
       "      <td>2005065760003</td>\n",
       "      <td>57</td>\n",
       "      <td>Urban</td>\n",
       "      <td>both</td>\n",
       "    </tr>\n",
       "    <tr>\n",
       "      <th>3</th>\n",
       "      <td>Rodneyfort</td>\n",
       "      <td>2018-02-10 23:22:03</td>\n",
       "      <td>23.44</td>\n",
       "      <td>5149245426178</td>\n",
       "      <td>34</td>\n",
       "      <td>Urban</td>\n",
       "      <td>both</td>\n",
       "    </tr>\n",
       "    <tr>\n",
       "      <th>4</th>\n",
       "      <td>South Jack</td>\n",
       "      <td>2018-03-06 04:28:35</td>\n",
       "      <td>34.58</td>\n",
       "      <td>3908451377344</td>\n",
       "      <td>46</td>\n",
       "      <td>Urban</td>\n",
       "      <td>both</td>\n",
       "    </tr>\n",
       "    <tr>\n",
       "      <th>5</th>\n",
       "      <td>South Latoya</td>\n",
       "      <td>2018-03-11 12:26:48</td>\n",
       "      <td>9.52</td>\n",
       "      <td>1994999424437</td>\n",
       "      <td>10</td>\n",
       "      <td>Urban</td>\n",
       "      <td>both</td>\n",
       "    </tr>\n",
       "    <tr>\n",
       "      <th>6</th>\n",
       "      <td>New Paulville</td>\n",
       "      <td>2018-02-27 11:17:56</td>\n",
       "      <td>43.25</td>\n",
       "      <td>793208410091</td>\n",
       "      <td>44</td>\n",
       "      <td>Urban</td>\n",
       "      <td>both</td>\n",
       "    </tr>\n",
       "    <tr>\n",
       "      <th>7</th>\n",
       "      <td>Simpsonburgh</td>\n",
       "      <td>2018-04-26 00:43:24</td>\n",
       "      <td>35.98</td>\n",
       "      <td>111953927754</td>\n",
       "      <td>21</td>\n",
       "      <td>Urban</td>\n",
       "      <td>both</td>\n",
       "    </tr>\n",
       "    <tr>\n",
       "      <th>8</th>\n",
       "      <td>South Karenland</td>\n",
       "      <td>2018-01-08 03:28:48</td>\n",
       "      <td>35.09</td>\n",
       "      <td>7995623208694</td>\n",
       "      <td>4</td>\n",
       "      <td>Urban</td>\n",
       "      <td>both</td>\n",
       "    </tr>\n",
       "    <tr>\n",
       "      <th>9</th>\n",
       "      <td>North Jasmine</td>\n",
       "      <td>2018-03-09 06:26:29</td>\n",
       "      <td>42.81</td>\n",
       "      <td>5327642267789</td>\n",
       "      <td>33</td>\n",
       "      <td>Urban</td>\n",
       "      <td>both</td>\n",
       "    </tr>\n",
       "  </tbody>\n",
       "</table>\n",
       "</div>"
      ],
      "text/plain": [
       "                 city                 date   fare        ride_id  \\\n",
       "0  Lake Jonathanshire  2018-01-14 10:14:22  13.83  5739410935873   \n",
       "1  South Michelleport  2018-03-04 18:24:09  30.24  2343912425577   \n",
       "2  Port Samanthamouth  2018-02-24 04:29:00  33.44  2005065760003   \n",
       "3          Rodneyfort  2018-02-10 23:22:03  23.44  5149245426178   \n",
       "4          South Jack  2018-03-06 04:28:35  34.58  3908451377344   \n",
       "5        South Latoya  2018-03-11 12:26:48   9.52  1994999424437   \n",
       "6       New Paulville  2018-02-27 11:17:56  43.25   793208410091   \n",
       "7        Simpsonburgh  2018-04-26 00:43:24  35.98   111953927754   \n",
       "8     South Karenland  2018-01-08 03:28:48  35.09  7995623208694   \n",
       "9       North Jasmine  2018-03-09 06:26:29  42.81  5327642267789   \n",
       "\n",
       "   driver_count   type _merge  \n",
       "0             5  Urban   both  \n",
       "1            72  Urban   both  \n",
       "2            57  Urban   both  \n",
       "3            34  Urban   both  \n",
       "4            46  Urban   both  \n",
       "5            10  Urban   both  \n",
       "6            44  Urban   both  \n",
       "7            21  Urban   both  \n",
       "8             4  Urban   both  \n",
       "9            33  Urban   both  "
      ]
     },
     "execution_count": 238,
     "metadata": {},
     "output_type": "execute_result"
    }
   ],
   "source": [
    "%matplotlib inline\n",
    "# Dependencies and Setup\n",
    "import matplotlib.pyplot as plt\n",
    "import pandas as pd\n",
    "import numpy as np\n",
    "\n",
    "\n",
    "# Files to Load \n",
    "city_data = \"./Resources/city_data.csv\"\n",
    "ride_data = \"./Resources/ride_data.csv\"\n",
    "\n",
    "\n",
    "# Read the City and Ride Data\n",
    "city_data = pd.read_csv(city_data)\n",
    "ride_data = pd.read_csv(ride_data)\n",
    "\n",
    "\n",
    "# Combine the data into a single dataset\n",
    "combined_df = pd.merge(ride_data, city_data, on=\"city\", how =\"left\", indicator=True)\n",
    "\n",
    "combined_df.head(10)\n",
    "#2375 rows × 7 columns"
   ]
  },
  {
   "cell_type": "code",
   "execution_count": 239,
   "metadata": {},
   "outputs": [
    {
     "data": {
      "text/plain": [
       "city            2375\n",
       "date            2375\n",
       "fare            2375\n",
       "ride_id         2375\n",
       "driver_count    2375\n",
       "type            2375\n",
       "_merge          2375\n",
       "dtype: int64"
      ]
     },
     "execution_count": 239,
     "metadata": {},
     "output_type": "execute_result"
    }
   ],
   "source": [
    "#Take a count and check for any NaN values\n",
    "\n",
    "combined_df.count()\n",
    "combined_df = combined_df.dropna(how = \"any\")\n",
    "combined_df.count()\n",
    "#Row nos remain 2375 before and after dropping any NaN values so there are none NaN found."
   ]
  },
  {
   "cell_type": "code",
   "execution_count": 240,
   "metadata": {},
   "outputs": [],
   "source": [
    "#BUBBLE PLOT OF RIDE SHARING DATA\n",
    "\n",
    "# Obtain the x and y coordinates for each of the three city types\n",
    "\n",
    "# Build the scatter plots for each city types\n",
    "\n",
    "# Incorporate the other graph properties\n",
    "\n",
    "# Create a legend\n",
    "\n",
    "# Incorporate a text label regarding circle size\n",
    "\n",
    "# Save Figure"
   ]
  },
  {
   "cell_type": "code",
   "execution_count": 271,
   "metadata": {},
   "outputs": [
    {
     "name": "stdout",
     "output_type": "stream",
     "text": [
      "120\n"
     ]
    },
    {
     "data": {
      "text/html": [
       "<div>\n",
       "<style scoped>\n",
       "    .dataframe tbody tr th:only-of-type {\n",
       "        vertical-align: middle;\n",
       "    }\n",
       "\n",
       "    .dataframe tbody tr th {\n",
       "        vertical-align: top;\n",
       "    }\n",
       "\n",
       "    .dataframe thead th {\n",
       "        text-align: right;\n",
       "    }\n",
       "</style>\n",
       "<table border=\"1\" class=\"dataframe\">\n",
       "  <thead>\n",
       "    <tr style=\"text-align: right;\">\n",
       "      <th></th>\n",
       "      <th>date</th>\n",
       "      <th>fare</th>\n",
       "      <th>ride_id</th>\n",
       "      <th>driver_count</th>\n",
       "      <th>type</th>\n",
       "      <th>_merge</th>\n",
       "    </tr>\n",
       "    <tr>\n",
       "      <th>city</th>\n",
       "      <th></th>\n",
       "      <th></th>\n",
       "      <th></th>\n",
       "      <th></th>\n",
       "      <th></th>\n",
       "      <th></th>\n",
       "    </tr>\n",
       "  </thead>\n",
       "  <tbody>\n",
       "    <tr>\n",
       "      <th>Amandaburgh</th>\n",
       "      <td>18</td>\n",
       "      <td>18</td>\n",
       "      <td>18</td>\n",
       "      <td>18</td>\n",
       "      <td>18</td>\n",
       "      <td>18</td>\n",
       "    </tr>\n",
       "    <tr>\n",
       "      <th>Barajasview</th>\n",
       "      <td>22</td>\n",
       "      <td>22</td>\n",
       "      <td>22</td>\n",
       "      <td>22</td>\n",
       "      <td>22</td>\n",
       "      <td>22</td>\n",
       "    </tr>\n",
       "    <tr>\n",
       "      <th>Barronchester</th>\n",
       "      <td>16</td>\n",
       "      <td>16</td>\n",
       "      <td>16</td>\n",
       "      <td>16</td>\n",
       "      <td>16</td>\n",
       "      <td>16</td>\n",
       "    </tr>\n",
       "    <tr>\n",
       "      <th>Bethanyland</th>\n",
       "      <td>18</td>\n",
       "      <td>18</td>\n",
       "      <td>18</td>\n",
       "      <td>18</td>\n",
       "      <td>18</td>\n",
       "      <td>18</td>\n",
       "    </tr>\n",
       "    <tr>\n",
       "      <th>Bradshawfurt</th>\n",
       "      <td>10</td>\n",
       "      <td>10</td>\n",
       "      <td>10</td>\n",
       "      <td>10</td>\n",
       "      <td>10</td>\n",
       "      <td>10</td>\n",
       "    </tr>\n",
       "  </tbody>\n",
       "</table>\n",
       "</div>"
      ],
      "text/plain": [
       "               date  fare  ride_id  driver_count  type  _merge\n",
       "city                                                          \n",
       "Amandaburgh      18    18       18            18    18      18\n",
       "Barajasview      22    22       22            22    22      22\n",
       "Barronchester    16    16       16            16    16      16\n",
       "Bethanyland      18    18       18            18    18      18\n",
       "Bradshawfurt     10    10       10            10    10      10"
      ]
     },
     "execution_count": 271,
     "metadata": {},
     "output_type": "execute_result"
    }
   ],
   "source": [
    "#check how many unique cities are there\n",
    "\n",
    "total_cities = combined_df[\"city\"].unique()\n",
    "print(len(total_cities)) # 120 cities\n",
    "\n",
    "# Group the data acc to cities\n",
    "city_grouped = combined_df.groupby([\"city\"])\n",
    "\n",
    "#Average Fare ($) Per City( y axis)\n",
    "avg_fare = city_grouped[\"fare\"].mean()\n",
    "\n",
    "city_grouped.count().head()"
   ]
  },
  {
   "cell_type": "code",
   "execution_count": 242,
   "metadata": {},
   "outputs": [
    {
     "data": {
      "text/plain": [
       "city\n",
       "Amandaburgh      18\n",
       "Barajasview      22\n",
       "Barronchester    16\n",
       "Bethanyland      18\n",
       "Bradshawfurt     10\n",
       "Name: ride_id, dtype: int64"
      ]
     },
     "execution_count": 242,
     "metadata": {},
     "output_type": "execute_result"
    }
   ],
   "source": [
    "#Total Number of Rides Per City( x axis )\n",
    "total_rides = combined_df.groupby([\"city\"])[\"ride_id\"].count()\n",
    "\n",
    "total_rides.head()"
   ]
  },
  {
   "cell_type": "code",
   "execution_count": 243,
   "metadata": {},
   "outputs": [
    {
     "data": {
      "text/plain": [
       "city\n",
       "Amandaburgh      12\n",
       "Barajasview      26\n",
       "Barronchester    11\n",
       "Bethanyland      22\n",
       "Bradshawfurt      7\n",
       "Name: driver_count, dtype: int64"
      ]
     },
     "execution_count": 243,
     "metadata": {},
     "output_type": "execute_result"
    }
   ],
   "source": [
    "#Total Number of Drivers Per City\n",
    "total_drivers = combined_df.groupby([\"city\"])[\"driver_count\"].mean()\n",
    "\n",
    "total_drivers.head()"
   ]
  },
  {
   "cell_type": "code",
   "execution_count": 244,
   "metadata": {},
   "outputs": [
    {
     "data": {
      "text/plain": [
       "Urban       66\n",
       "Suburban    36\n",
       "Rural       18\n",
       "Name: type, dtype: int64"
      ]
     },
     "execution_count": 244,
     "metadata": {},
     "output_type": "execute_result"
    }
   ],
   "source": [
    "city_types = city_data.set_index([\"city\"])[\"type\"]\n",
    "city_types.value_counts()\n"
   ]
  },
  {
   "cell_type": "code",
   "execution_count": 272,
   "metadata": {},
   "outputs": [
    {
     "data": {
      "text/html": [
       "<div>\n",
       "<style scoped>\n",
       "    .dataframe tbody tr th:only-of-type {\n",
       "        vertical-align: middle;\n",
       "    }\n",
       "\n",
       "    .dataframe tbody tr th {\n",
       "        vertical-align: top;\n",
       "    }\n",
       "\n",
       "    .dataframe thead th {\n",
       "        text-align: right;\n",
       "    }\n",
       "</style>\n",
       "<table border=\"1\" class=\"dataframe\">\n",
       "  <thead>\n",
       "    <tr style=\"text-align: right;\">\n",
       "      <th></th>\n",
       "      <th>Average Fare per City</th>\n",
       "      <th>Number of Rides</th>\n",
       "      <th>Number of Drivers</th>\n",
       "      <th>City Type</th>\n",
       "    </tr>\n",
       "  </thead>\n",
       "  <tbody>\n",
       "    <tr>\n",
       "      <th>Amandaburgh</th>\n",
       "      <td>24.641667</td>\n",
       "      <td>NaN</td>\n",
       "      <td>NaN</td>\n",
       "      <td>Urban</td>\n",
       "    </tr>\n",
       "    <tr>\n",
       "      <th>Barajasview</th>\n",
       "      <td>25.332273</td>\n",
       "      <td>NaN</td>\n",
       "      <td>NaN</td>\n",
       "      <td>Urban</td>\n",
       "    </tr>\n",
       "    <tr>\n",
       "      <th>Barronchester</th>\n",
       "      <td>36.422500</td>\n",
       "      <td>NaN</td>\n",
       "      <td>NaN</td>\n",
       "      <td>Suburban</td>\n",
       "    </tr>\n",
       "    <tr>\n",
       "      <th>Bethanyland</th>\n",
       "      <td>32.956111</td>\n",
       "      <td>NaN</td>\n",
       "      <td>NaN</td>\n",
       "      <td>Suburban</td>\n",
       "    </tr>\n",
       "    <tr>\n",
       "      <th>Bradshawfurt</th>\n",
       "      <td>40.064000</td>\n",
       "      <td>NaN</td>\n",
       "      <td>NaN</td>\n",
       "      <td>Rural</td>\n",
       "    </tr>\n",
       "  </tbody>\n",
       "</table>\n",
       "</div>"
      ],
      "text/plain": [
       "               Average Fare per City  Number of Rides  Number of Drivers  \\\n",
       "Amandaburgh                24.641667              NaN                NaN   \n",
       "Barajasview                25.332273              NaN                NaN   \n",
       "Barronchester              36.422500              NaN                NaN   \n",
       "Bethanyland                32.956111              NaN                NaN   \n",
       "Bradshawfurt               40.064000              NaN                NaN   \n",
       "\n",
       "              City Type  \n",
       "Amandaburgh       Urban  \n",
       "Barajasview       Urban  \n",
       "Barronchester  Suburban  \n",
       "Bethanyland    Suburban  \n",
       "Bradshawfurt      Rural  "
      ]
     },
     "execution_count": 272,
     "metadata": {},
     "output_type": "execute_result"
    }
   ],
   "source": [
    "combined_df2 = pd.DataFrame({\"Average Fare per City\":avg_fare,\n",
    "                \"Number of Rides\": total_rides,\n",
    "                \"Number of Drivers\": total_drivers,\n",
    "                \"City Type\": city_types\n",
    "})\n",
    "combined_df2.head()"
   ]
  },
  {
   "cell_type": "code",
   "execution_count": 267,
   "metadata": {},
   "outputs": [
    {
     "data": {
      "text/html": [
       "<div>\n",
       "<style scoped>\n",
       "    .dataframe tbody tr th:only-of-type {\n",
       "        vertical-align: middle;\n",
       "    }\n",
       "\n",
       "    .dataframe tbody tr th {\n",
       "        vertical-align: top;\n",
       "    }\n",
       "\n",
       "    .dataframe thead th {\n",
       "        text-align: right;\n",
       "    }\n",
       "</style>\n",
       "<table border=\"1\" class=\"dataframe\">\n",
       "  <thead>\n",
       "    <tr style=\"text-align: right;\">\n",
       "      <th></th>\n",
       "      <th>Average Fare per City</th>\n",
       "      <th>Number of Rides</th>\n",
       "      <th>Number of Drivers</th>\n",
       "      <th>City Type</th>\n",
       "    </tr>\n",
       "  </thead>\n",
       "  <tbody>\n",
       "    <tr>\n",
       "      <th>Amandaburgh</th>\n",
       "      <td>24.641667</td>\n",
       "      <td>NaN</td>\n",
       "      <td>NaN</td>\n",
       "      <td>Urban</td>\n",
       "    </tr>\n",
       "    <tr>\n",
       "      <th>Barajasview</th>\n",
       "      <td>25.332273</td>\n",
       "      <td>NaN</td>\n",
       "      <td>NaN</td>\n",
       "      <td>Urban</td>\n",
       "    </tr>\n",
       "    <tr>\n",
       "      <th>Carriemouth</th>\n",
       "      <td>28.314444</td>\n",
       "      <td>NaN</td>\n",
       "      <td>NaN</td>\n",
       "      <td>Urban</td>\n",
       "    </tr>\n",
       "    <tr>\n",
       "      <th>Christopherfurt</th>\n",
       "      <td>24.501852</td>\n",
       "      <td>NaN</td>\n",
       "      <td>NaN</td>\n",
       "      <td>Urban</td>\n",
       "    </tr>\n",
       "    <tr>\n",
       "      <th>Deanville</th>\n",
       "      <td>25.842632</td>\n",
       "      <td>NaN</td>\n",
       "      <td>NaN</td>\n",
       "      <td>Urban</td>\n",
       "    </tr>\n",
       "  </tbody>\n",
       "</table>\n",
       "</div>"
      ],
      "text/plain": [
       "                 Average Fare per City  Number of Rides  Number of Drivers  \\\n",
       "Amandaburgh                  24.641667              NaN                NaN   \n",
       "Barajasview                  25.332273              NaN                NaN   \n",
       "Carriemouth                  28.314444              NaN                NaN   \n",
       "Christopherfurt              24.501852              NaN                NaN   \n",
       "Deanville                    25.842632              NaN                NaN   \n",
       "\n",
       "                City Type  \n",
       "Amandaburgh         Urban  \n",
       "Barajasview         Urban  \n",
       "Carriemouth         Urban  \n",
       "Christopherfurt     Urban  \n",
       "Deanville           Urban  "
      ]
     },
     "execution_count": 267,
     "metadata": {},
     "output_type": "execute_result"
    }
   ],
   "source": [
    "#Filtering on the basis of city type and creating Urban , Suburban and Rural dataframes.\n",
    "\n",
    "urban_df = combined_df2.loc[combined_df2[\"City Type\"]== \"Urban\"]\n",
    "\n",
    "suburban_df = combined_df2.loc[combined_df2[\"City Type\"]== \"Suburban\"]\n",
    "\n",
    "rural_df = combined_df2.loc[combined_df2[\"City Type\"]== \"Rural\"]\n",
    "\n",
    "urban_df.head()"
   ]
  },
  {
   "cell_type": "code",
   "execution_count": null,
   "metadata": {},
   "outputs": [],
   "source": []
  },
  {
   "cell_type": "code",
   "execution_count": 247,
   "metadata": {},
   "outputs": [
    {
     "data": {
      "image/png": "[encoded data removed]",
      "text/plain": [
       "<Figure size 432x288 with 1 Axes>"
      ]
     },
     "metadata": {
      "needs_background": "light"
     },
     "output_type": "display_data"
    }
   ],
   "source": [
    "#Create a Scatterplot\n",
    "\n",
    "\n",
    "plt.scatter(urban_df[\"Number of Rides\"], urban_df[\"Average Fare per City\"], marker=\"o\", color = \"lightcoral\", \n",
    "            edgecolors=\"black\", s = urban_df[\"Number of Drivers\"]*20, label = \"Urban\", alpha = 0.5, linewidth = 1.5)\n",
    "\n",
    "plt.scatter(suburban_df[\"Number of Rides\"], suburban_df[\"Average Fare per City\"], marker=\"o\", color = \"lightskyblue\", \n",
    "            edgecolors=\"black\", s = suburban_df[\"Number of Drivers\"]*20, label = \"SubUrban\", alpha = 0.5, \n",
    "            linewidth = 1.5)\n",
    "\n",
    "plt.scatter(rural_df[\"Number of Rides\"], rural_df[\"Average Fare per City\"], marker=\"o\", color = \"gold\", \n",
    "            edgecolors=\"black\", s = rural_df[\"Number of Drivers\"]*20, label = \"Rural\", alpha = 0.5, linewidth = 1.5)\n",
    "\n",
    "\n",
    "textstr = 'Note: Circle size correlates with driver count per city'\n",
    "plt.text(42, 30, textstr, fontsize=12)\n",
    "plt.subplots_adjust(right=1)\n",
    "\n",
    "plt.xlim(0 , 41)\n",
    "plt.ylim(18, 45)\n",
    "plt.xlabel(\"Total number of rides(Per City)\")\n",
    "plt.ylabel(\"Average Fare($)\")\n",
    "plt.title(\"Pyber Ride sharing data(2016)\")\n",
    "\n",
    "legend = plt.legend(loc= \"best\", title=\"City Types\")\n",
    "legend.legendHandles[0]._sizes = [30]\n",
    "legend.legendHandles[1]._sizes = [30]\n",
    "legend.legendHandles[2]._sizes = [30]\n",
    "\n",
    "plt.grid()\n",
    "plt.savefig(\"./Resources/pyberimage\")\n",
    "plt.show()\n",
    "   \n"
   ]
  },
  {
   "cell_type": "code",
   "execution_count": 248,
   "metadata": {},
   "outputs": [],
   "source": [
    "# Total Fares by City Type\n",
    "\n",
    "# Calculate Type Percents\n",
    "\n",
    "# Build Pie Chart\n",
    "\n",
    "# Save Figure\n"
   ]
  },
  {
   "cell_type": "code",
   "execution_count": 263,
   "metadata": {},
   "outputs": [
    {
     "data": {
      "text/plain": [
       "type\n",
       "Rural        4327.93\n",
       "Suburban    19356.33\n",
       "Urban       39854.38\n",
       "Name: fare, dtype: float64"
      ]
     },
     "execution_count": 263,
     "metadata": {},
     "output_type": "execute_result"
    },
    {
     "data": {
      "image/png": "[encoded data removed]",
      "text/plain": [
       "<Figure size 432x288 with 1 Axes>"
      ]
     },
     "metadata": {},
     "output_type": "display_data"
    }
   ],
   "source": [
    "total_fares = combined_df.groupby([\"type\"])[\"fare\"].sum()\n",
    "\n",
    "Urban_fare= 39854.38\n",
    "Suburban_fare = 19356.33\n",
    "Rural_fare = 4327.93\n",
    "\n",
    "fare_sum = (Rural_fare + Suburban_fare + Urban_fare )\n",
    "\n",
    "rural_percent = (Rural_fare / fare_sum) *100\n",
    "urban_percent = (Urban_fare / fare_sum)* 100\n",
    "suburban_percent = (Suburban_fare / fare_sum)*100\n",
    "\n",
    "fare_percents = [ suburban_percent , urban_percent, rural_percent ]\n",
    "labels = [ \"Suburban\" , \"Urban\", \"Rural\" ]\n",
    "colors= [ \"lightskyblue\" , \"lightcoral\", \"gold\"]\n",
    "explode = (0,  0.10 , 0)\n",
    "\n",
    "plt.title(\"% of Total Fares By City Type\")\n",
    "plt.pie(fare_percents, explode=explode, labels=labels ,colors=colors, autopct=\"%1.1f%%\", shadow=True, startangle=150)\n",
    "plt.show\n",
    "plt.savefig(\"./Resources/pyberimage2\")\n",
    "total_fares"
   ]
  },
  {
   "cell_type": "code",
   "execution_count": null,
   "metadata": {},
   "outputs": [],
   "source": []
  },
  {
   "cell_type": "code",
   "execution_count": 250,
   "metadata": {},
   "outputs": [],
   "source": [
    "# Total Rides by City Type\n",
    "\n",
    "# Calculate Ride Percents\n",
    "\n",
    "# Build Pie Chart\n",
    "\n",
    "# Save Figure\n"
   ]
  },
  {
   "cell_type": "code",
   "execution_count": 264,
   "metadata": {},
   "outputs": [
    {
     "data": {
      "image/png": "[encoded data removed]",
      "text/plain": [
       "<Figure size 432x288 with 1 Axes>"
      ]
     },
     "metadata": {},
     "output_type": "display_data"
    }
   ],
   "source": [
    "total_rides = combined_df.groupby([\"type\"])[\"ride_id\"].count()\n",
    "Rural_rides = 125\n",
    "Suburban_rides = 625\n",
    "Urban_rides = 1625\n",
    "\n",
    "sum_rides= (Rural_rides + Suburban_rides + Urban_rides )\n",
    "\n",
    "ruralrides_percent = (Rural_rides /sum_rides) *100\n",
    "urbanrides_percent = (Urban_rides / sum_rides)* 100\n",
    "suburbanrides_percent = (Suburban_rides /sum_rides)*100\n",
    "\n",
    "\n",
    "percent_rides = [ suburbanrides_percent , urbanrides_percent, ruralrides_percent ]\n",
    "labels = [ \"Suburban\" ,\"Urban\", \"Rural\" ]\n",
    "colors= [ \"lightskyblue\" , \"lightcoral\", \"gold\" ]\n",
    "explode = (0, 0.10, 0)\n",
    "\n",
    "plt.title(\"% of Total Rides By City Type\")\n",
    "plt.pie(percent_rides, explode=explode, labels=labels , colors=colors, autopct=\"%1.1f%%\",shadow=True,startangle=160)\n",
    "plt.show\n",
    "plt.savefig(\"./Resources/pyberimage3\")"
   ]
  },
  {
   "cell_type": "code",
   "execution_count": null,
   "metadata": {},
   "outputs": [],
   "source": []
  },
  {
   "cell_type": "code",
   "execution_count": 252,
   "metadata": {},
   "outputs": [],
   "source": [
    "#Total Drivers by City Type\n",
    "\n",
    "# Calculate Driver Percents\n",
    "\n",
    "# Build Pie Charts\n",
    "\n",
    "# Save Figure\n"
   ]
  },
  {
   "cell_type": "code",
   "execution_count": 265,
   "metadata": {},
   "outputs": [
    {
     "data": {
      "image/png": "[encoded data removed]",
      "text/plain": [
       "<Figure size 432x288 with 1 Axes>"
      ]
     },
     "metadata": {},
     "output_type": "display_data"
    }
   ],
   "source": [
    "total_drivers = city_data.groupby([\"type\"]).sum()[\"driver_count\"]\n",
    "Rural_drivers = 78\n",
    "Suburban_drivers = 490\n",
    "Urban_drivers = 2405\n",
    "\n",
    "sum_drivers= (Rural_drivers + Suburban_drivers + Urban_drivers )\n",
    "\n",
    "ruraldrivers_percent = (Rural_drivers/sum_drivers) *100\n",
    "urbandrivers_percent = (Urban_drivers / sum_drivers)* 100\n",
    "suburbandrivers_percent = (Suburban_drivers /sum_drivers)*100\n",
    "\n",
    "\n",
    "percent_drivers = [ suburbandrivers_percent , urbandrivers_percent, ruraldrivers_percent ]\n",
    "labels = [ \"Suburban\" ,\"Urban\", \"Rural\" ]\n",
    "colors= [ \"lightskyblue\" , \"lightcoral\", \"gold\" ]\n",
    "explode = (0, 0.10, 0)\n",
    "\n",
    "plt.title(\"% of Total Drivers By City Type\")\n",
    "plt.pie(percent_drivers,explode=explode, labels=labels ,colors=colors,autopct=\"%1.1f%%\", shadow=True, startangle=150)\n",
    "plt.show\n",
    "plt.savefig(\"./Resources/pyberimage3\")\n"
   ]
  },
  {
   "cell_type": "code",
   "execution_count": null,
   "metadata": {},
   "outputs": [],
   "source": []
  },
  {
   "cell_type": "code",
   "execution_count": null,
   "metadata": {},
   "outputs": [],
   "source": []
  },
  {
   "cell_type": "code",
   "execution_count": null,
   "metadata": {},
   "outputs": [],
   "source": []
  },
  {
   "cell_type": "code",
   "execution_count": null,
   "metadata": {},
   "outputs": [],
   "source": []
  },
  {
   "cell_type": "code",
   "execution_count": null,
   "metadata": {},
   "outputs": [],
   "source": []
  },
  {
   "cell_type": "code",
   "execution_count": null,
   "metadata": {},
   "outputs": [],
   "source": []
  }
 ],
 "metadata": {
  "kernelspec": {
   "display_name": "Python 3",
   "language": "python",
   "name": "python3"
  },
  "language_info": {
   "codemirror_mode": {
    "name": "ipython",
    "version": 3
   },
   "file_extension": ".py",
   "mimetype": "text/x-python",
   "name": "python",
   "nbconvert_exporter": "python",
   "pygments_lexer": "ipython3",
   "version": "3.7.0"
  }
 },
 "nbformat": 4,
 "nbformat_minor": 2
}
